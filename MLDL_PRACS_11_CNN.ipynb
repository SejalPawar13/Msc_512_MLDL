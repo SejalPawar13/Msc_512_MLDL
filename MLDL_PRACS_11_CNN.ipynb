{
  "nbformat": 4,
  "nbformat_minor": 0,
  "metadata": {
    "colab": {
      "provenance": [],
      "mount_file_id": "1wq4evB0LeEqDmG3UEf9Tzj0XNp4lPMQs",
      "authorship_tag": "ABX9TyOJV/Lsl4TS2KOsyr/IELTX",
      "include_colab_link": true
    },
    "kernelspec": {
      "name": "python3",
      "display_name": "Python 3"
    },
    "language_info": {
      "name": "python"
    }
  },
  "cells": [
    {
      "cell_type": "markdown",
      "metadata": {
        "id": "view-in-github",
        "colab_type": "text"
      },
      "source": [
        "<a href=\"https://colab.research.google.com/github/AkhilGangan/MSC_MLDL_510/blob/main/MLDL_PRACS_11_CNN.ipynb\" target=\"_parent\"><img src=\"https://colab.research.google.com/assets/colab-badge.svg\" alt=\"Open In Colab\"/></a>"
      ]
    },
    {
      "cell_type": "code",
      "execution_count": null,
      "metadata": {
        "id": "AMdEF6lK6BGt"
      },
      "outputs": [],
      "source": [
        "import tensorflow as tf\n",
        "from keras.preprocessing.image import ImageDataGenerator"
      ]
    },
    {
      "cell_type": "code",
      "source": [
        "tf.__version__"
      ],
      "metadata": {
        "colab": {
          "base_uri": "https://localhost:8080/",
          "height": 35
        },
        "id": "i5AZfI3U9fpC",
        "outputId": "d29ff577-2e8d-4e3a-cf11-bddbfab7896a"
      },
      "execution_count": null,
      "outputs": [
        {
          "output_type": "execute_result",
          "data": {
            "text/plain": [
              "'2.12.0'"
            ],
            "application/vnd.google.colaboratory.intrinsic+json": {
              "type": "string"
            }
          },
          "metadata": {},
          "execution_count": 3
        }
      ]
    },
    {
      "cell_type": "code",
      "source": [
        "train_datagen = ImageDataGenerator(rescale=1./225,\n",
        "                                   shear_range=0.2,\n",
        "                                   zoom_range=0.2,\n",
        "                                   horizontal_flip= True)\n",
        "training_set =train_datagen.flow_from_directory('drive/MyDrive/small_dataset/training_set',\n",
        "                                                target_size=(64,64),\n",
        "                                                batch_size = 32,\n",
        "                                                class_mode ='binary')"
      ],
      "metadata": {
        "colab": {
          "base_uri": "https://localhost:8080/"
        },
        "id": "RaLBeRaO9k1x",
        "outputId": "d05fcdad-b2b6-493d-8906-c50d8548b770"
      },
      "execution_count": null,
      "outputs": [
        {
          "output_type": "stream",
          "name": "stdout",
          "text": [
            "Found 10 images belonging to 2 classes.\n"
          ]
        }
      ]
    },
    {
      "cell_type": "code",
      "source": [
        "test_datagen = ImageDataGenerator(rescale = 1./255)\n",
        "test_set = test_datagen.flow_from_directory('drive/MyDrive/small_dataset/test_set',\n",
        "                                            target_size =(64,64),\n",
        "                                            batch_size = 32,\n",
        "                                            class_mode = 'binary')"
      ],
      "metadata": {
        "id": "B2SFXaAe9k-c",
        "colab": {
          "base_uri": "https://localhost:8080/"
        },
        "outputId": "9317473b-1e83-4940-9b29-4d690c2502bc"
      },
      "execution_count": null,
      "outputs": [
        {
          "output_type": "stream",
          "name": "stdout",
          "text": [
            "Found 10 images belonging to 2 classes.\n"
          ]
        }
      ]
    },
    {
      "cell_type": "code",
      "source": [
        "cnn = tf.keras.models.Sequential()"
      ],
      "metadata": {
        "id": "xhNesoEv_d6q"
      },
      "execution_count": null,
      "outputs": []
    },
    {
      "cell_type": "code",
      "source": [
        "cnn.add(tf.keras.layers.Convolution2D(filters=32,kernel_size=3,activation='relu',input_shape=[64,64,3]))"
      ],
      "metadata": {
        "id": "NSf4VJuO_eFk"
      },
      "execution_count": null,
      "outputs": []
    },
    {
      "cell_type": "code",
      "source": [
        "cnn.add(tf.keras.layers.MaxPool2D(pool_size=2,strides=2))"
      ],
      "metadata": {
        "id": "G45m3f3NAUvc"
      },
      "execution_count": null,
      "outputs": []
    },
    {
      "cell_type": "code",
      "source": [
        "cnn.add(tf.keras.layers.Convolution2D(filters=32,kernel_size=3,activation ='relu'))\n",
        "cnn.add(tf.keras.layers.MaxPool2D(pool_size=2,strides=2))"
      ],
      "metadata": {
        "id": "oG6WUcbFAU9-"
      },
      "execution_count": null,
      "outputs": []
    },
    {
      "cell_type": "code",
      "source": [
        "cnn.add(tf.keras.layers.Flatten())"
      ],
      "metadata": {
        "id": "sOz8RtkqCs5B"
      },
      "execution_count": null,
      "outputs": []
    },
    {
      "cell_type": "code",
      "source": [
        "cnn.add(tf.keras.layers.Dense(units=128,activation='relu'))"
      ],
      "metadata": {
        "id": "BNUXXKoyCu09"
      },
      "execution_count": null,
      "outputs": []
    },
    {
      "cell_type": "code",
      "source": [
        "cnn.add(tf.keras.layers.Dense(units=1,activation='sigmoid'))"
      ],
      "metadata": {
        "id": "IO-73myiCu-L"
      },
      "execution_count": null,
      "outputs": []
    },
    {
      "cell_type": "code",
      "source": [
        "cnn.compile(optimizer='adam',loss='binary_crossentropy',metrics=['accuracy'])"
      ],
      "metadata": {
        "id": "RKUI3dmADIkr"
      },
      "execution_count": null,
      "outputs": []
    },
    {
      "cell_type": "code",
      "source": [
        "cnn.fit(x=training_set,validation_data=test_set,epochs=25)"
      ],
      "metadata": {
        "colab": {
          "base_uri": "https://localhost:8080/"
        },
        "id": "XejELTRjDIoy",
        "outputId": "9e6c7148-6346-4b97-8a21-23de7eb7aaa8"
      },
      "execution_count": null,
      "outputs": [
        {
          "output_type": "stream",
          "name": "stdout",
          "text": [
            "Epoch 1/25\n",
            "1/1 [==============================] - 4s 4s/step - loss: 0.6952 - accuracy: 0.5000 - val_loss: 0.7204 - val_accuracy: 0.4000\n",
            "Epoch 2/25\n",
            "1/1 [==============================] - 0s 185ms/step - loss: 0.6519 - accuracy: 0.6000 - val_loss: 0.7351 - val_accuracy: 0.4000\n",
            "Epoch 3/25\n",
            "1/1 [==============================] - 0s 206ms/step - loss: 0.6319 - accuracy: 0.6000 - val_loss: 0.7766 - val_accuracy: 0.5000\n",
            "Epoch 4/25\n",
            "1/1 [==============================] - 0s 177ms/step - loss: 0.6188 - accuracy: 0.5000 - val_loss: 0.7548 - val_accuracy: 0.4000\n",
            "Epoch 5/25\n",
            "1/1 [==============================] - 0s 186ms/step - loss: 0.6082 - accuracy: 0.8000 - val_loss: 0.7659 - val_accuracy: 0.3000\n",
            "Epoch 6/25\n",
            "1/1 [==============================] - 0s 190ms/step - loss: 0.5138 - accuracy: 0.8000 - val_loss: 0.7715 - val_accuracy: 0.5000\n",
            "Epoch 7/25\n",
            "1/1 [==============================] - 0s 187ms/step - loss: 0.4580 - accuracy: 0.9000 - val_loss: 0.7862 - val_accuracy: 0.5000\n",
            "Epoch 8/25\n",
            "1/1 [==============================] - 0s 213ms/step - loss: 0.3784 - accuracy: 1.0000 - val_loss: 0.8239 - val_accuracy: 0.3000\n",
            "Epoch 9/25\n",
            "1/1 [==============================] - 0s 293ms/step - loss: 0.5356 - accuracy: 0.8000 - val_loss: 0.8477 - val_accuracy: 0.4000\n",
            "Epoch 10/25\n",
            "1/1 [==============================] - 0s 219ms/step - loss: 0.3052 - accuracy: 1.0000 - val_loss: 0.8564 - val_accuracy: 0.5000\n",
            "Epoch 11/25\n",
            "1/1 [==============================] - 0s 183ms/step - loss: 0.2899 - accuracy: 1.0000 - val_loss: 0.9273 - val_accuracy: 0.3000\n",
            "Epoch 12/25\n",
            "1/1 [==============================] - 0s 195ms/step - loss: 0.3065 - accuracy: 0.9000 - val_loss: 0.9122 - val_accuracy: 0.5000\n",
            "Epoch 13/25\n",
            "1/1 [==============================] - 0s 192ms/step - loss: 0.1960 - accuracy: 1.0000 - val_loss: 1.0297 - val_accuracy: 0.4000\n",
            "Epoch 14/25\n",
            "1/1 [==============================] - 0s 270ms/step - loss: 0.3119 - accuracy: 0.8000 - val_loss: 0.9902 - val_accuracy: 0.5000\n",
            "Epoch 15/25\n",
            "1/1 [==============================] - 0s 293ms/step - loss: 0.4211 - accuracy: 0.9000 - val_loss: 1.0590 - val_accuracy: 0.4000\n",
            "Epoch 16/25\n",
            "1/1 [==============================] - 0s 212ms/step - loss: 0.4110 - accuracy: 0.9000 - val_loss: 1.0201 - val_accuracy: 0.4000\n",
            "Epoch 17/25\n",
            "1/1 [==============================] - 0s 180ms/step - loss: 0.2931 - accuracy: 0.9000 - val_loss: 1.1143 - val_accuracy: 0.4000\n",
            "Epoch 18/25\n",
            "1/1 [==============================] - 0s 191ms/step - loss: 0.2466 - accuracy: 1.0000 - val_loss: 1.0404 - val_accuracy: 0.4000\n",
            "Epoch 19/25\n",
            "1/1 [==============================] - 0s 194ms/step - loss: 0.1568 - accuracy: 1.0000 - val_loss: 1.1933 - val_accuracy: 0.3000\n",
            "Epoch 20/25\n",
            "1/1 [==============================] - 0s 210ms/step - loss: 0.4437 - accuracy: 0.8000 - val_loss: 1.1180 - val_accuracy: 0.3000\n",
            "Epoch 21/25\n",
            "1/1 [==============================] - 0s 285ms/step - loss: 0.2221 - accuracy: 0.9000 - val_loss: 1.0657 - val_accuracy: 0.4000\n",
            "Epoch 22/25\n",
            "1/1 [==============================] - 0s 221ms/step - loss: 0.1534 - accuracy: 1.0000 - val_loss: 1.0934 - val_accuracy: 0.4000\n",
            "Epoch 23/25\n",
            "1/1 [==============================] - 0s 223ms/step - loss: 0.1324 - accuracy: 1.0000 - val_loss: 1.1204 - val_accuracy: 0.3000\n",
            "Epoch 24/25\n",
            "1/1 [==============================] - 0s 288ms/step - loss: 0.0930 - accuracy: 1.0000 - val_loss: 1.2291 - val_accuracy: 0.3000\n",
            "Epoch 25/25\n",
            "1/1 [==============================] - 0s 224ms/step - loss: 0.1510 - accuracy: 1.0000 - val_loss: 1.2397 - val_accuracy: 0.2000\n"
          ]
        },
        {
          "output_type": "execute_result",
          "data": {
            "text/plain": [
              "<keras.callbacks.History at 0x7b1b11e29660>"
            ]
          },
          "metadata": {},
          "execution_count": 18
        }
      ]
    },
    {
      "cell_type": "code",
      "source": [
        "import numpy as np\n",
        "from tensorflow.keras.preprocessing import image\n",
        "test_image = image.load_img('drive/MyDrive/small_dataset/single_prediction/cat_or_dog_1.jpg',target_size=(64,64))\n",
        "test_image =image.img_to_array(test_image)\n",
        "test_image = np.expand_dims(test_image,axis=0)\n",
        "result = cnn.predict(test_image)\n",
        "training_set.class_indices\n",
        "if result[0][0]==1:\n",
        "  prediction ='dog'\n",
        "else:\n",
        "    prediction='cat'\n",
        "\n",
        "\n"
      ],
      "metadata": {
        "colab": {
          "base_uri": "https://localhost:8080/"
        },
        "id": "aMcZ1pX6DItW",
        "outputId": "681ae556-a10e-4967-9831-a5ef1f0bed1d"
      },
      "execution_count": null,
      "outputs": [
        {
          "output_type": "stream",
          "name": "stdout",
          "text": [
            "1/1 [==============================] - 0s 26ms/step\n"
          ]
        }
      ]
    },
    {
      "cell_type": "code",
      "source": [
        "print(prediction)"
      ],
      "metadata": {
        "colab": {
          "base_uri": "https://localhost:8080/"
        },
        "id": "29PLzk22D3QT",
        "outputId": "bed0f10f-714a-4f92-c53e-36dc758a2a0e"
      },
      "execution_count": null,
      "outputs": [
        {
          "output_type": "stream",
          "name": "stdout",
          "text": [
            "cat\n"
          ]
        }
      ]
    }
  ]
}